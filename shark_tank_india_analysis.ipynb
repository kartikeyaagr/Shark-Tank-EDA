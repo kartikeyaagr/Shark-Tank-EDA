{
 "cells": [
  {
   "cell_type": "code",
   "execution_count": 1,
   "metadata": {},
   "outputs": [],
   "source": [
    "import pandas as pd\n",
    "import matplotlib.pyplot as plt\n",
    "import numpy as np"
   ]
  },
  {
   "cell_type": "code",
   "execution_count": null,
   "metadata": {},
   "outputs": [],
   "source": [
    "shark_tank = pd.read_csv(\"shark_tank_india.csv\")\n",
    "shark_tank.head()"
   ]
  },
  {
   "cell_type": "code",
   "execution_count": 3,
   "metadata": {},
   "outputs": [],
   "source": [
    "def clean():\n",
    "    shark_tank = shark_tank.drop(\n",
    "        columns=[\n",
    "            \"Season Start\",\n",
    "            \"Season End\",\n",
    "            \"Original Air Date\",\n",
    "            \"Episode Title\",\n",
    "            \"Cash Burn\",\n",
    "            \"Bootstrapped\",\n",
    "            \"Part of Match off\",\n",
    "        ],\n",
    "        axis=1,\n",
    "    )"
   ]
  },
  {
   "cell_type": "code",
   "execution_count": 4,
   "metadata": {},
   "outputs": [],
   "source": [
    "shark_tank[\"Season Number\"] = shark_tank[\"Season Number\"].astype(pd.Int32Dtype())\n",
    "shark_tank[\"Episode Number\"] = shark_tank[\"Episode Number\"].astype(pd.Int32Dtype())\n",
    "shark_tank[\"Pitch Number\"] = shark_tank[\"Pitch Number\"].astype(pd.Int32Dtype())\n",
    "\n",
    "shark_tank[\"Number of Presenters\"] = shark_tank[\"Number of Presenters\"].astype(\n",
    "    pd.Int32Dtype()\n",
    ")\n",
    "shark_tank[\"Male Presenters\"] = shark_tank[\"Male Presenters\"].astype(pd.Int32Dtype())\n",
    "shark_tank[\"Female Presenters\"] = shark_tank[\"Female Presenters\"].astype(\n",
    "    pd.Int32Dtype()\n",
    ")\n",
    "shark_tank[\"Transgender Presenters\"] = shark_tank[\"Transgender Presenters\"].astype(\n",
    "    pd.Int32Dtype()\n",
    ")\n",
    "shark_tank[\"Couple Presenters\"] = shark_tank[\"Couple Presenters\"].astype(\n",
    "    pd.Int32Dtype()\n",
    ")\n",
    "\n",
    "shark_tank[\"Startup Name\"] = shark_tank[\"Startup Name\"].astype(str)\n",
    "shark_tank[\"Industry\"] = shark_tank[\"Industry\"].astype(str)\n",
    "shark_tank[\"Business Description\"] = shark_tank[\"Business Description\"].astype(str)\n",
    "\n",
    "# shark_tank['Gross Margin'] = shark_tank['Gross Margin'].astype(pd.Int32Dtype())\n",
    "shark_tank[\"Net Margin\"] = shark_tank[\"Net Margin\"].astype(pd.Int32Dtype())\n",
    "\n",
    "shark_tank[\"Started in\"] = shark_tank[\"Started in\"].astype(pd.Int32Dtype())\n",
    "shark_tank[\"Yearly Revenue\"] = shark_tank[\"Yearly Revenue\"].astype(pd.Int32Dtype())\n",
    "\n",
    "shark_tank[\"Received Offer\"] = shark_tank[\"Received Offer\"].astype(pd.Int32Dtype())\n",
    "shark_tank[\"Accepted Offer\"] = shark_tank[\"Accepted Offer\"].astype(pd.Int32Dtype())"
   ]
  },
  {
   "cell_type": "code",
   "execution_count": null,
   "metadata": {},
   "outputs": [],
   "source": [
    "shark_tank.sample(5).style.set_properties(\n",
    "    **{\n",
    "        \"background-color\": \"#eeaa28\",\n",
    "        \"color\": \"black\",\n",
    "        \"border\": \"1px solid black\",\n",
    "        \"font-size\": \"10pt\",\n",
    "    }\n",
    ")"
   ]
  },
  {
   "cell_type": "code",
   "execution_count": null,
   "metadata": {},
   "outputs": [],
   "source": [
    "shark_tank.info()"
   ]
  },
  {
   "cell_type": "code",
   "execution_count": null,
   "metadata": {},
   "outputs": [],
   "source": [
    "shark_tank.describe().T"
   ]
  },
  {
   "cell_type": "code",
   "execution_count": null,
   "metadata": {},
   "outputs": [],
   "source": [
    "for col in shark_tank.columns:\n",
    "    print(col, \"-\", shark_tank[col].nunique())"
   ]
  },
  {
   "cell_type": "markdown",
   "metadata": {},
   "source": [
    "End of EDA\n"
   ]
  },
  {
   "cell_type": "markdown",
   "metadata": {},
   "source": [
    "##### SPLITTING THE DATASET\n"
   ]
  },
  {
   "cell_type": "code",
   "execution_count": 33,
   "metadata": {},
   "outputs": [],
   "source": [
    "season_1 = shark_tank.loc[\n",
    "    (shark_tank[\"Season Number\"] == 1) & (shark_tank[\"Episode Number\"] != 0)\n",
    "]\n",
    "unseen_episodes_s1 = shark_tank.loc[\n",
    "    (shark_tank[\"Season Number\"] == 1) & (shark_tank[\"Episode Number\"] == 0)\n",
    "]\n",
    "season_2 = shark_tank.loc[\n",
    "    (shark_tank[\"Season Number\"] == 2) & (shark_tank[\"Episode Number\"] != 0)\n",
    "]\n",
    "unseen_episodes_s2 = shark_tank.loc[\n",
    "    (shark_tank[\"Season Number\"] == 2) & (shark_tank[\"Episode Number\"] == 0)\n",
    "]\n",
    "season_3 = shark_tank.loc[shark_tank[\"Season Number\"] == 3]\n",
    "season_4 = shark_tank.loc[shark_tank[\"Season Number\"] == 4]"
   ]
  },
  {
   "cell_type": "code",
   "execution_count": null,
   "metadata": {},
   "outputs": [],
   "source": [
    "# ABOUT\n",
    "print(\"{} Seasons of the show\\n\".format(shark_tank[\"Season Number\"].max()))\n",
    "print(\"{} Startups came to pitch\\n\".format(shark_tank[\"Pitch Number\"].max()))\n",
    "print(\n",
    "    \"In season 1, there were {} pitches and {} unseen pitches.\\n\".format(\n",
    "        (season_1[\"Pitch Number\"].max()),\n",
    "        (len(unseen_episodes_s1[\"Pitch Number\"].unique())),\n",
    "    )\n",
    ")\n",
    "print(\n",
    "    \"In season 2, there were {} pitches and {} unseen pitch.\\n\".format(\n",
    "        (season_2[\"Pitch Number\"].max()),\n",
    "        (len(unseen_episodes_s2[\"Pitch Number\"].unique())),\n",
    "    )\n",
    ")\n",
    "print(\"In Season 3, there were {} pitches\\n\".format(season_3[\"Pitch Number\"].max()))\n",
    "print(\"In Season 4, there were {} pitches\\n\".format(season_4[\"Pitch Number\"].max()))"
   ]
  },
  {
   "cell_type": "code",
   "execution_count": null,
   "metadata": {},
   "outputs": [],
   "source": []
  }
 ],
 "metadata": {
  "kernelspec": {
   "display_name": "base",
   "language": "python",
   "name": "python3"
  },
  "language_info": {
   "codemirror_mode": {
    "name": "ipython",
    "version": 3
   },
   "file_extension": ".py",
   "mimetype": "text/x-python",
   "name": "python",
   "nbconvert_exporter": "python",
   "pygments_lexer": "ipython3",
   "version": "3.12.9"
  }
 },
 "nbformat": 4,
 "nbformat_minor": 2
}
